{
 "cells": [
  {
   "cell_type": "code",
   "execution_count": 22,
   "metadata": {},
   "outputs": [
    {
     "data": {
      "text/plain": [
       "[1, 1, 0]"
      ]
     },
     "execution_count": 22,
     "metadata": {},
     "output_type": "execute_result"
    }
   ],
   "source": [
    "inputs = [[1, 2, 0]]\n",
    "# Make 1 if the value is different from 0\n",
    "mask = []   \n",
    "for array in inputs:\n",
    "    for value in array:\n",
    "        if value != 0:\n",
    "            mask.append(1)\n",
    "        else:\n",
    "            mask.append(0)\n",
    "\n",
    "# mask = [1 if value != 0 else 0 for value for array for value in inputs] \n",
    "mask"
   ]
  },
  {
   "cell_type": "code",
   "execution_count": 25,
   "metadata": {},
   "outputs": [],
   "source": [
    "import numpy as np"
   ]
  },
  {
   "cell_type": "code",
   "execution_count": 33,
   "metadata": {},
   "outputs": [
    {
     "name": "stdout",
     "output_type": "stream",
     "text": [
      "[[[0.19298032 0.0275345  0.13470674]\n",
      "  [0.7222715  0.10293203 0.05072981]\n",
      "  [0.09524935 0.33153456 0.68125095]]\n",
      "\n",
      " [[0.21361647 0.83643482 0.80547809]\n",
      "  [0.48769668 0.84183323 0.60760382]\n",
      "  [0.52913177 0.97927257 0.19733979]]\n",
      "\n",
      " [[0.10333041 0.13537016 0.18421593]\n",
      "  [0.30859597 0.07956409 0.90366787]\n",
      "  [0.82450769 0.60200629 0.45055839]]\n",
      "\n",
      " [[0.22266644 0.21820541 0.57300648]\n",
      "  [0.39071856 0.21924684 0.7876582 ]\n",
      "  [0.94193761 0.70020512 0.12586157]]\n",
      "\n",
      " [[0.86963385 0.28889522 0.7089219 ]\n",
      "  [0.25376644 0.67798661 0.31377191]\n",
      "  [0.12403897 0.39522474 0.85839919]]\n",
      "\n",
      " [[0.56502837 0.18018079 0.40041265]\n",
      "  [0.00190887 0.03586261 0.53580906]\n",
      "  [0.70474875 0.76477082 0.96799707]]\n",
      "\n",
      " [[0.59050385 0.32427692 0.10299547]\n",
      "  [0.75937025 0.87483239 0.35105221]\n",
      "  [0.34717919 0.41898159 0.26039138]]\n",
      "\n",
      " [[0.50193347 0.9639214  0.81296332]\n",
      "  [0.12959042 0.35911971 0.35749363]\n",
      "  [0.30919808 0.66483399 0.20519176]]\n",
      "\n",
      " [[0.74070819 0.1208674  0.66231914]\n",
      "  [0.09059945 0.33903024 0.0152654 ]\n",
      "  [0.47228301 0.48106683 0.65313187]]\n",
      "\n",
      " [[0.89646619 0.51038331 0.82461147]\n",
      "  [0.06292612 0.98789337 0.55899584]\n",
      "  [0.96952244 0.22226799 0.3743816 ]]]\n"
     ]
    },
    {
     "data": {
      "text/plain": [
       "array([[[ True,  True,  True],\n",
       "        [False,  True,  True],\n",
       "        [ True,  True, False]],\n",
       "\n",
       "       [[ True, False, False],\n",
       "        [ True, False, False],\n",
       "        [False, False,  True]],\n",
       "\n",
       "       [[ True,  True,  True],\n",
       "        [ True,  True, False],\n",
       "        [False, False,  True]],\n",
       "\n",
       "       [[ True,  True, False],\n",
       "        [ True,  True, False],\n",
       "        [False, False,  True]],\n",
       "\n",
       "       [[False,  True, False],\n",
       "        [ True, False,  True],\n",
       "        [ True,  True, False]],\n",
       "\n",
       "       [[False,  True,  True],\n",
       "        [ True,  True, False],\n",
       "        [False, False, False]],\n",
       "\n",
       "       [[False,  True,  True],\n",
       "        [False, False,  True],\n",
       "        [ True,  True,  True]],\n",
       "\n",
       "       [[False, False, False],\n",
       "        [ True,  True,  True],\n",
       "        [ True, False,  True]],\n",
       "\n",
       "       [[False,  True, False],\n",
       "        [ True,  True,  True],\n",
       "        [ True,  True, False]],\n",
       "\n",
       "       [[False, False, False],\n",
       "        [ True, False, False],\n",
       "        [False,  True,  True]]])"
      ]
     },
     "execution_count": 33,
     "metadata": {},
     "output_type": "execute_result"
    }
   ],
   "source": [
    "inputs = np.random.rand(10,3,3)\n",
    "print(inputs)\n",
    "\n",
    "inputs <=0.5"
   ]
  },
  {
   "cell_type": "code",
   "execution_count": null,
   "metadata": {},
   "outputs": [],
   "source": []
  }
 ],
 "metadata": {
  "kernelspec": {
   "display_name": "developing",
   "language": "python",
   "name": "python3"
  },
  "language_info": {
   "codemirror_mode": {
    "name": "ipython",
    "version": 3
   },
   "file_extension": ".py",
   "mimetype": "text/x-python",
   "name": "python",
   "nbconvert_exporter": "python",
   "pygments_lexer": "ipython3",
   "version": "3.11.1"
  }
 },
 "nbformat": 4,
 "nbformat_minor": 2
}
